{
 "cells": [
  {
   "cell_type": "code",
   "execution_count": 10,
   "id": "d5f1f8d4",
   "metadata": {},
   "outputs": [
    {
     "name": "stdout",
     "output_type": "stream",
     "text": [
      "Cloning into 'stocknet-dataset'...\n",
      "remote: Enumerating objects: 53785, done.\u001b[K\n",
      "remote: Total 53785 (delta 0), reused 0 (delta 0), pack-reused 53785\u001b[K\n",
      "Receiving objects: 100% (53785/53785), 66.95 MiB | 21.05 MiB/s, done.\n",
      "Resolving deltas: 100% (28658/28658), done.\n",
      "Updating files: 100% (55141/55141), done.\n"
     ]
    }
   ],
   "source": [
    "!git clone https://github.com/yumoxu/stocknet-dataset.git"
   ]
  },
  {
   "cell_type": "code",
   "execution_count": 12,
   "id": "6508054d",
   "metadata": {},
   "outputs": [],
   "source": [
    "!mv ~/private/Q5/dsc_261/notebooks/stocknet-dataset/price/* ~/private/Q5/dsc_261/datasets/raw/price"
   ]
  },
  {
   "cell_type": "code",
   "execution_count": 14,
   "id": "beefd30c",
   "metadata": {},
   "outputs": [
    {
     "name": "stdout",
     "output_type": "stream",
     "text": [
      "processed  raw\r\n"
     ]
    }
   ],
   "source": [
    "!ls ~/private/Q5/dsc_261/datasets"
   ]
  },
  {
   "cell_type": "code",
   "execution_count": 13,
   "id": "4f7ae731",
   "metadata": {},
   "outputs": [],
   "source": [
    "!rm -rf ~/private/Q5/dsc_261/notebooks/stocknet-dataset"
   ]
  },
  {
   "cell_type": "code",
   "execution_count": null,
   "id": "20b799be",
   "metadata": {},
   "outputs": [],
   "source": []
  }
 ],
 "metadata": {
  "kernelspec": {
   "display_name": "Python 3 (ipykernel)",
   "language": "python",
   "name": "python3"
  },
  "language_info": {
   "codemirror_mode": {
    "name": "ipython",
    "version": 3
   },
   "file_extension": ".py",
   "mimetype": "text/x-python",
   "name": "python",
   "nbconvert_exporter": "python",
   "pygments_lexer": "ipython3",
   "version": "3.9.5"
  }
 },
 "nbformat": 4,
 "nbformat_minor": 5
}
